{
 "cells": [
  {
   "cell_type": "code",
   "execution_count": 1,
   "id": "7b00dffd-a3d1-4c03-908a-55017efb9f1f",
   "metadata": {},
   "outputs": [
    {
     "name": "stderr",
     "output_type": "stream",
     "text": [
      "C:\\Python310\\lib\\site-packages\\tqdm\\auto.py:22: TqdmWarning: IProgress not found. Please update jupyter and ipywidgets. See https://ipywidgets.readthedocs.io/en/stable/user_install.html\n",
      "  from .autonotebook import tqdm as notebook_tqdm\n"
     ]
    },
    {
     "name": "stdout",
     "output_type": "stream",
     "text": [
      "Could not import google colab\n"
     ]
    }
   ],
   "source": [
    "import os\n",
    "import pandas as pd\n",
    "import numpy as np\n",
    "from transformers import pipeline\n",
    "from sentence_transformers import SentenceTransformer\n",
    "try:\n",
    "    from google.colab import drive\n",
    "except:\n",
    "    print(\"Could not import google colab\")"
   ]
  },
  {
   "cell_type": "code",
   "execution_count": 2,
   "id": "edfed5cd-683b-4753-85e8-f2bd6b9c1bca",
   "metadata": {},
   "outputs": [],
   "source": [
    "try:\n",
    "    drive.mount('/content/drive')\n",
    "    os.chdir('/content/drive/MyDrive/data')\n",
    "except:\n",
    "    pass\n",
    "nta = pd.read_json(\"NTA_Dataset.jsonl\", lines=True)\n",
    "yta = pd.read_json(\"YTA_Dataset.jsonl\", lines=True)\n",
    "    "
   ]
  },
  {
   "cell_type": "code",
   "execution_count": 3,
   "id": "9116ad70-89ce-4140-ae30-feb3e9ce9208",
   "metadata": {},
   "outputs": [],
   "source": [
    "def preprocess(data, remove_judgement = True):\n",
    "    # in: 2d table with prompts and resolution\n",
    "    # out: tidied data\n",
    "    # ends with 5 hashtags\n",
    "    # remove capitalisation?\n",
    "    # \n",
    "    if remove_judgement:\n",
    "        data['completion'] = data['completion'].str.replace(r'[N,n,Y,y][T,t][A,a]', '', regex=True)\n",
    "    data['completion'] = data['completion'].str.replace(r'#', '', regex=True)\n",
    "    data['completion'] = data['completion'].str.replace(r'\\s+', ' ', regex=True)\n",
    "    return data"
   ]
  },
  {
   "cell_type": "code",
   "execution_count": 4,
   "id": "64604bca-fd1a-47b6-8695-be1debc573a0",
   "metadata": {},
   "outputs": [
    {
     "data": {
      "text/html": [
       "<div>\n",
       "<style scoped>\n",
       "    .dataframe tbody tr th:only-of-type {\n",
       "        vertical-align: middle;\n",
       "    }\n",
       "\n",
       "    .dataframe tbody tr th {\n",
       "        vertical-align: top;\n",
       "    }\n",
       "\n",
       "    .dataframe thead th {\n",
       "        text-align: right;\n",
       "    }\n",
       "</style>\n",
       "<table border=\"1\" class=\"dataframe\">\n",
       "  <thead>\n",
       "    <tr style=\"text-align: right;\">\n",
       "      <th></th>\n",
       "      <th>completion</th>\n",
       "    </tr>\n",
       "  </thead>\n",
       "  <tbody>\n",
       "    <tr>\n",
       "      <th>0</th>\n",
       "      <td>you just pointed out a fact Protip :You can a...</td>\n",
       "    </tr>\n",
       "    <tr>\n",
       "      <th>1</th>\n",
       "      <td>If she can't see other people drink how the f...</td>\n",
       "    </tr>\n",
       "    <tr>\n",
       "      <th>2</th>\n",
       "      <td>—your brother chose to isolate himself and sc...</td>\n",
       "    </tr>\n",
       "    <tr>\n",
       "      <th>3</th>\n",
       "      <td>—You’re only the asshole if you don’t tell yo...</td>\n",
       "    </tr>\n",
       "    <tr>\n",
       "      <th>4</th>\n",
       "      <td>—They abused your favor. They should get and ...</td>\n",
       "    </tr>\n",
       "    <tr>\n",
       "      <th>...</th>\n",
       "      <td>...</td>\n",
       "    </tr>\n",
       "    <tr>\n",
       "      <th>2457</th>\n",
       "      <td>I hope this is fake because if not then you'r...</td>\n",
       "    </tr>\n",
       "    <tr>\n",
       "      <th>2458</th>\n",
       "      <td>for devaluing her work, her technical skills ...</td>\n",
       "    </tr>\n",
       "    <tr>\n",
       "      <th>2459</th>\n",
       "      <td>You had already thrown away a bunch of her st...</td>\n",
       "    </tr>\n",
       "    <tr>\n",
       "      <th>2460</th>\n",
       "      <td>I didn't even need to read. You always share ...</td>\n",
       "    </tr>\n",
       "    <tr>\n",
       "      <th>2461</th>\n",
       "      <td>this wasn't a rebound marriage they started d...</td>\n",
       "    </tr>\n",
       "  </tbody>\n",
       "</table>\n",
       "<p>7776 rows × 1 columns</p>\n",
       "</div>"
      ],
      "text/plain": [
       "                                             completion\n",
       "0      you just pointed out a fact Protip :You can a...\n",
       "1      If she can't see other people drink how the f...\n",
       "2      —your brother chose to isolate himself and sc...\n",
       "3      —You’re only the asshole if you don’t tell yo...\n",
       "4      —They abused your favor. They should get and ...\n",
       "...                                                 ...\n",
       "2457   I hope this is fake because if not then you'r...\n",
       "2458   for devaluing her work, her technical skills ...\n",
       "2459   You had already thrown away a bunch of her st...\n",
       "2460   I didn't even need to read. You always share ...\n",
       "2461   this wasn't a rebound marriage they started d...\n",
       "\n",
       "[7776 rows x 1 columns]"
      ]
     },
     "execution_count": 4,
     "metadata": {},
     "output_type": "execute_result"
    }
   ],
   "source": [
    "data = pd.concat([nta,yta])\n",
    "data.drop([\"prompt\"], axis=1, inplace=True)\n",
    "data = preprocess(data)\n",
    "data"
   ]
  },
  {
   "cell_type": "code",
   "execution_count": 5,
   "id": "55258b9a-7bbd-4460-bc7a-6970b481f22c",
   "metadata": {},
   "outputs": [
    {
     "name": "stdout",
     "output_type": "stream",
     "text": [
      "nta shape: (5314, 2)\n",
      "true nta shape: (5314, 2)\n",
      "false nta shape: (0, 2)\n",
      "yta shape: (2462, 2)\n",
      "True yta shape: (2416, 2)\n",
      "False yta shape: (26, 2)\n",
      "(47,)\n"
     ]
    }
   ],
   "source": [
    "nta[\"completion\"] = nta[\"completion\"].str.lower()\n",
    "print(\"nta shape:\",nta.shape)\n",
    "true_nta = nta.loc[nta[\"completion\"].str.startswith((' nta',' asdfasfddefinitely nta'))]\n",
    "print(\"true nta shape:\",true_nta.shape)\n",
    "false_nta = nta.loc[nta[\"completion\"].str.startswith((' yta', ' definitely yta'))]\n",
    "print(\"false nta shape:\",false_nta.shape)\n",
    "yta[\"completion\"] = yta[\"completion\"].str.lower()\n",
    "print(\"yta shape:\",yta.shape)\n",
    "true_yta = yta.loc[yta[\"completion\"].str.startswith((' yta',' definitely yta'))]\n",
    "print(\"True yta shape:\",true_yta.shape)\n",
    "false_yta = yta.loc[yta[\"completion\"].str.startswith((' nta', ' definitely nta'))]\n",
    "print(\"False yta shape:\",false_yta.shape)\n",
    "unidentified_yta = yta.loc[~yta[\"completion\"].str.startswith(' yta')]\n",
    "print(unidentified_yta[\"completion\"].shape)"
   ]
  },
  {
   "cell_type": "code",
   "execution_count": 6,
   "id": "ff66206e-3f64-4766-9339-89a3a5ed0f63",
   "metadata": {},
   "outputs": [
    {
     "data": {
      "text/html": [
       "<div>\n",
       "<style scoped>\n",
       "    .dataframe tbody tr th:only-of-type {\n",
       "        vertical-align: middle;\n",
       "    }\n",
       "\n",
       "    .dataframe tbody tr th {\n",
       "        vertical-align: top;\n",
       "    }\n",
       "\n",
       "    .dataframe thead th {\n",
       "        text-align: right;\n",
       "    }\n",
       "</style>\n",
       "<table border=\"1\" class=\"dataframe\">\n",
       "  <thead>\n",
       "    <tr style=\"text-align: right;\">\n",
       "      <th></th>\n",
       "      <th>completion</th>\n",
       "    </tr>\n",
       "  </thead>\n",
       "  <tbody>\n",
       "    <tr>\n",
       "      <th>551</th>\n",
       "      <td>Culture aside, that she can somehow bifurcate...</td>\n",
       "    </tr>\n",
       "    <tr>\n",
       "      <th>1056</th>\n",
       "      <td>Your brother is going to have to talk to them...</td>\n",
       "    </tr>\n",
       "    <tr>\n",
       "      <th>2632</th>\n",
       "      <td>. But PLEASE back up all of your documents to...</td>\n",
       "    </tr>\n",
       "    <tr>\n",
       "      <th>914</th>\n",
       "      <td>it sounds like you barely know this woman, wh...</td>\n",
       "    </tr>\n",
       "    <tr>\n",
       "      <th>4701</th>\n",
       "      <td>And I cannot believe they would take a good b...</td>\n",
       "    </tr>\n",
       "    <tr>\n",
       "      <th>...</th>\n",
       "      <td>...</td>\n",
       "    </tr>\n",
       "    <tr>\n",
       "      <th>2208</th>\n",
       "      <td>. I’m sorry to tell you this, but your boyfri...</td>\n",
       "    </tr>\n",
       "    <tr>\n",
       "      <th>3360</th>\n",
       "      <td>, obviously. Let him know if he'd like to for...</td>\n",
       "    </tr>\n",
       "    <tr>\n",
       "      <th>3254</th>\n",
       "      <td>, this is a common problem though. Whenever I...</td>\n",
       "    </tr>\n",
       "    <tr>\n",
       "      <th>3326</th>\n",
       "      <td>, she scared the shit out of your sister on p...</td>\n",
       "    </tr>\n",
       "    <tr>\n",
       "      <th>5307</th>\n",
       "      <td>You said your MIL is 'difficult' and 'overbea...</td>\n",
       "    </tr>\n",
       "  </tbody>\n",
       "</table>\n",
       "<p>200 rows × 1 columns</p>\n",
       "</div>"
      ],
      "text/plain": [
       "                                             completion\n",
       "551    Culture aside, that she can somehow bifurcate...\n",
       "1056   Your brother is going to have to talk to them...\n",
       "2632   . But PLEASE back up all of your documents to...\n",
       "914    it sounds like you barely know this woman, wh...\n",
       "4701   And I cannot believe they would take a good b...\n",
       "...                                                 ...\n",
       "2208   . I’m sorry to tell you this, but your boyfri...\n",
       "3360   , obviously. Let him know if he'd like to for...\n",
       "3254   , this is a common problem though. Whenever I...\n",
       "3326   , she scared the shit out of your sister on p...\n",
       "5307   You said your MIL is 'difficult' and 'overbea...\n",
       "\n",
       "[200 rows x 1 columns]"
      ]
     },
     "execution_count": 6,
     "metadata": {},
     "output_type": "execute_result"
    }
   ],
   "source": [
    "test = data.sample(200)\n",
    "test"
   ]
  },
  {
   "cell_type": "code",
   "execution_count": null,
   "id": "cb9fde1e-8940-4f58-b872-0accfadfc66e",
   "metadata": {},
   "outputs": [
    {
     "name": "stdout",
     "output_type": "stream",
     "text": [
      " Culture aside, that she can somehow bifurcate \"Your homosexuality\" from you is...weird. You are who you are, and coincidelly you are gay. They are one in the same. That she apparently approves of you and your friendship with her yet disapproves of an essential part of your being is..weird. And , would reasonably make it intolerable.. \n"
     ]
    }
   ],
   "source": [
    "test['reason'] = -1\n",
    "causes = []\n",
    "for completion in test['completion']:\n",
    "    print(completion)\n",
    "    try:\n",
    "        causes += [int(input())]\n",
    "    except:\n",
    "        causes += [-1]\n",
    "    \n",
    "    "
   ]
  },
  {
   "cell_type": "code",
   "execution_count": null,
   "id": "67d4f06e-015b-4e84-b754-c14c38c69f8d",
   "metadata": {},
   "outputs": [],
   "source": [
    "test['reason'] = causes"
   ]
  },
  {
   "cell_type": "code",
   "execution_count": null,
   "id": "10820737-3f48-4f54-8511-03d5bf62349a",
   "metadata": {},
   "outputs": [],
   "source": [
    "test"
   ]
  },
  {
   "cell_type": "code",
   "execution_count": null,
   "id": "f9b84243-48f5-4aa0-9baf-f9b3867586e9",
   "metadata": {},
   "outputs": [],
   "source": [
    "#test.to_json(\"tagged.json\")\n",
    "# commented out to make sure i don't save over tagged data"
   ]
  },
  {
   "cell_type": "code",
   "execution_count": null,
   "id": "4d2caca9-5889-4101-9364-70d8d22855f8",
   "metadata": {},
   "outputs": [],
   "source": [
    "with open(\"tagged.json\") as user_file:\n",
    "    file_contents = json.load(user_file)\n",
    "test = pd.DataFrame(file_contents)\n",
    "print(test)\n",
    "#print(file_contents)"
   ]
  },
  {
   "cell_type": "code",
   "execution_count": 39,
   "id": "1ba9d917-46d3-4122-8cf6-56279ea4429d",
   "metadata": {},
   "outputs": [
    {
     "name": "stdout",
     "output_type": "stream",
     "text": [
      "Counter({1: 39, 11: 23, 6: 22, 0: 19, 3: 19, 7: 18, 2: 12, 9: 12, 4: 12, 8: 8, -1: 6, 5: 6, 10: 4})\n"
     ]
    }
   ],
   "source": [
    "from collections import Counter\n",
    "counts = Counter(test[\"reason\"])\n",
    "print(counts)"
   ]
  },
  {
   "cell_type": "code",
   "execution_count": 84,
   "id": "6f4a3001-72a3-4c74-8045-2e00f99b70df",
   "metadata": {},
   "outputs": [],
   "source": [
    "model = SentenceTransformer('sentence-transformers/all-MiniLM-L6-v2')\n",
    "categories = [\"Irresponsible\",\"Entitled\",\"Stupid\",\"Bigot\",\"Miscommunication\",\"Trauma\",\"Betrayal\",\"Danger\",\"Obsession\",\"Pride\",\"Insecurity\",\"Rude\"]\n",
    "opposites = [\"Responsible\", \"Undemanding\",\"Intelligent\",\"Tolerant\",\"Clear\",\"Healthy Mindset\",\"Trust\",\"Safety\",\"Restraint\",\"Humility\",\"Confidence\",\"Polite\"]\n",
    "accusations_sec_person = [\"You were irresponsible\",\"You were entitled\",\"You were stupid\",\"You were bigoted\",\"You miscommunicated\",\"Your trauma caused this\",\"You betrayed this person\",\"You acted dangerously\",\"You were obsessive\",\"You were proud\",\"You were insecure\",\"You were rude\"]\n",
    "accusations_third_person = [\"They were irresponsible\",\"They were entitled\",\"They were stupid\",\"They were bigoted\",\"They miscommunicated\",\"Their trauma caused this\",\"They betrayed you\",\"They acted dangerously\",\"They were obsessive\",\"They were proud\",\"They were insecure\",\"They were rude\"]\n",
    "neutral = [\"The issue was caused by irresponsiblity\",\"The issue was caused by entitlement\",\"The issue was caused by stupidity\",\"The issue was caused by bigotry\",\"The issue was caused by miscommunication\",\"The issue was caused by trauma\",\"The issue was caused by betrayal\",\"The issue was caused by unsafe actions\",\"The issue was caused by obsession\",\"The issue was caused by pride\",\"The issue was caused by insecurity\",\"The issue was caused by rudeness\"]\n",
    "#[\"The issue here is irresponsibility\",\"The issue here is entitlement\",\"The issue here is stupidity\",\"The issue here is bigotry\",\"The issue here is miscommunication\",\"The issue here is trauma\",\"The issue here is betrayal\",\"The issue here is a lack of safety\",\"The issue here is pride\",\"The issue here is obsession\", \"You were irresponsible\", \"You acted entitled\", \"You acted stupid\", \"Your behaviour was bigoted\", \"You miscommunicated\", \"You acted this way because of trauma\", \"You betrayed someone\", \"Your behaviour was dangerous\", \"You were obsessive\", \"Your pride caused this issue\"]\n",
    "sentences = categories + opposites + accusations_sec_person + neutral#accusations_third_person + \n",
    "embeddings = np.array(model.encode(sentences))\n",
    "def generate_reason(string):\n",
    "    input_embedding = np.array(model.encode(string))\n",
    "    distances = np.linalg.norm(embeddings-input_embedding, axis=1)\n",
    "    index = np.argmin(distances)\n",
    "    listt = int(index/12)\n",
    "    index = index % 12\n",
    "    return [index,listt]"
   ]
  },
  {
   "cell_type": "code",
   "execution_count": 119,
   "id": "3b02f9b1-de81-4913-955e-72279abda6e6",
   "metadata": {},
   "outputs": [
    {
     "name": "stdout",
     "output_type": "stream",
     "text": [
      "53\n",
      "[[41. 20. 67. 19.  0.]\n",
      " [16.  9. 20.  8.  0.]]\n"
     ]
    }
   ],
   "source": [
    "test[\"generated_reason\"] = -1\n",
    "i = 0\n",
    "matrix = np.zeros((12,12))\n",
    "lists_used = np.zeros((2,5))\n",
    "matches=0\n",
    "gen_reasons = []\n",
    "for index, row in test.iterrows():\n",
    "    i+=1\n",
    "    gen_reas = generate_reason(row[\"completion\"])\n",
    "    generated_reason = gen_reas[0]\n",
    "    gen_reasons += [gen_reas[0]]\n",
    "    my_reason = row[\"reason\"]\n",
    "    matrix[my_reason,generated_reason]+=1\n",
    "    \n",
    "    match = generated_reason==my_reason\n",
    "    matches+=match\n",
    "    lists_used[int(match),gen_reas[1]]+=1\n",
    "\n",
    "print(matches)\n",
    "print(lists_used)"
   ]
  },
  {
   "cell_type": "code",
   "execution_count": 110,
   "id": "0c89020c-8b0d-4bdb-b2d1-8ab6232ed4d6",
   "metadata": {},
   "outputs": [
    {
     "name": "stdout",
     "output_type": "stream",
     "text": [
      "Irresponsible -> Insecurity  =  5.0\n",
      "Entitled -> Irresponsible  =  5.0\n",
      "Entitled -> Insecurity  =  9.0\n",
      "Entitled -> Rude  =  7.0\n",
      "True Stupid  =  1.0\n",
      "True Bigot  =  3.0\n",
      "Bigot -> Insecurity  =  6.0\n",
      "True Miscommunication  =  0.0\n",
      "True Trauma  =  1.0\n",
      "Betrayal -> Entitled  =  4.0\n",
      "Betrayal -> Insecurity  =  4.0\n",
      "Danger -> Trauma  =  4.0\n",
      "True Obsession  =  3.0\n",
      "True Pride  =  2.0\n",
      "Rude -> Insecurity  =  8.0\n"
     ]
    }
   ],
   "source": [
    "for i in range(12):\n",
    "    for j in range(12):\n",
    "        if i!=j:\n",
    "            if matrix[i,j]>3:\n",
    "                print(categories[i]+\" -> \"+categories[j]+\"  =  \"+str(matrix[i,j]))\n",
    "        else:\n",
    "            if matrix[i,j]<4:\n",
    "                print(\"True \" + categories[i] + \"  =  \" + str(matrix[i,j]))"
   ]
  },
  {
   "cell_type": "code",
   "execution_count": 167,
   "id": "b758a851-9e50-43ec-b3c0-081ad372659c",
   "metadata": {},
   "outputs": [
    {
     "name": "stdout",
     "output_type": "stream",
     "text": [
      "                                             completion  reason   \n",
      "4571   because it seems like a reasonable request, b...       1  \\\n",
      "1509   . You lied to her so she has the right to be ...       6   \n",
      "5028   - Sounds like the owner just wanted to get ri...       0   \n",
      "1417   . This isn't everyday shit we're talking abou...       7   \n",
      "2247   . I would have been fascinated too. At 6 week...       8   \n",
      "...                                                 ...     ...   \n",
      "2083   . Is your cousin an actual child? I’d probabl...      11   \n",
      "255    The school had a requirement and he failed to...       1   \n",
      "1593   . Tell her she needs to pay a company to box ...       0   \n",
      "649    . Thank you for standing up for your daughter...       3   \n",
      "1965   . I'm sure it's annoying, yeah. But you offer...       6   \n",
      "\n",
      "      generated_reason  \n",
      "4571                11  \n",
      "1509                10  \n",
      "5028                10  \n",
      "1417                 5  \n",
      "2247                 8  \n",
      "...                ...  \n",
      "2083                 6  \n",
      "255                  1  \n",
      "1593                 0  \n",
      "649                  5  \n",
      "1965                11  \n",
      "\n",
      "[200 rows x 3 columns]\n"
     ]
    }
   ],
   "source": [
    "print(test)"
   ]
  },
  {
   "cell_type": "code",
   "execution_count": 115,
   "id": "0df1c6c5-a9fe-4c26-a2f1-0057b5606b8d",
   "metadata": {},
   "outputs": [
    {
     "name": "stdout",
     "output_type": "stream",
     "text": [
      "[[ 6.  0.  0.  1.  0.  1.  1.  2.  1.  0.  5.  3.]\n",
      " [ 5. 11.  1.  1.  3.  1.  2.  1.  0.  0.  9.  7.]\n",
      " [ 0.  1.  1.  1.  3.  0.  1.  0.  1.  1.  1.  3.]\n",
      " [ 0.  0.  0.  3.  1.  1.  0.  1.  0.  0.  6.  1.]\n",
      " [ 3.  2.  0.  0.  0.  0.  1.  1.  1.  0.  2.  2.]\n",
      " [ 2.  0.  0.  0.  1.  1.  1.  0.  1.  0.  0.  0.]\n",
      " [ 1.  4.  0.  0.  0.  1. 11.  0.  0.  0.  4.  1.]\n",
      " [ 3.  2.  0.  0.  0.  4.  2.  5.  1.  0.  2.  0.]\n",
      " [ 0.  1.  0.  0.  1.  1.  1.  1.  3.  0.  0.  0.]\n",
      " [ 2.  3.  0.  0.  0.  1.  0.  0.  2.  2.  1.  1.]\n",
      " [ 0.  0.  0.  0.  1.  0.  0.  0.  0.  0.  4.  0.]\n",
      " [ 2.  1.  0.  1.  2.  3.  3.  2.  1.  0.  8.  6.]]\n"
     ]
    }
   ],
   "source": [
    "print(matrix)"
   ]
  },
  {
   "cell_type": "code",
   "execution_count": 179,
   "id": "677ebe94-dc94-4777-b5b3-85eb22d34a3d",
   "metadata": {},
   "outputs": [
    {
     "name": "stdout",
     "output_type": "stream",
     "text": [
      " (but you’re parents and brother are). It’s your apartme your parents can’t force your boyfriend out. Also your brother should be respectful of you guys, especially since you’re cohabitating \n",
      " You're being insecure and putting far too much stock into a piece of art. She's told you that theres no romantic attachme she has given valid reasons why she wants it, yet you are still bent out of shape. \n",
      " . Do not go ahead with this. You aren't a murderer if you don't donate your kidney. You can coct the doctor and tell them that you don't want to do it. They'll tell your dad that you aren't a good candidate. They will take the blame. Please have them take the blame!! One of his other relatives can donate their kidney. If they're not a match, they can be tested to match someone else and the kidney donations will be exchanged. \n",
      " . Wedding dress shopping is stressful. I know from experience. The more opinions, the more stressful it gets. I also do think it is a special mother-daughter mome that maybe you want with just your own mother. If you do feel you need to appease her...I went wedding dress shopping a variety of times. Once with a friend, once with another, and once with my mom. Maybe you could go and try on some dresses just to appease her. It could be fun. But not necessarily have to pick out “the dress”. There are so many other wedding activities she could be involved in, if you wanted her to be.. it doesn’t have to be just that one (Picking or making party favors? Picking a song Mother-Son dance? Cake testing?) Lord knows there’s a lot that goes into the wedding. She could be involved in other things too (of course, only if you want her to be) \n",
      " . Also if you block her and make FB take down your engagement pics she stole. \n",
      " why do they think it’s okay for them to say horrible things like you should break up with him but it’s not okay for you to tell them they won’t be invited to a wedding they clearly disapprove of? I wouldn’t want someone who clearly isn’t happy for me to be at my wedding either. If you’re happy in that arrangeme they have absolutely NOTHING to say. \n",
      " . You should coct Uber Eats and get a refund. \n",
      " . Your daughter's mel health issue is a serious thing, not something you pretend it's not there just to bring it up when it's convenient. \n",
      " injuries can show up later and it's important to know the cause. I'm sure they didn't do anything to check for internal damage in a School nurse's office. They totally should have told you so you could keep an eye out for concussion or other delayed reactions. She's 7! When I was in elemery school I fell off the monkey bars and the principal himself drove me home and told my parents! \n",
      " . You're a pare you made rules, the kids need to know that your rules have to be followed and actions have consequences. That being said, give them an alternative. Like, if they see something cool they come tell you and you go with them/give them one-time permission. And/or sit down with them and explain that, if they feel a rule is unfair or should be amended, they should feel free to come to you with their feelings and you will listen to their arguments and make decisions accordingly. The power is still with you, but teaching them to advocate for themselves is always a good idea. \n",
      " You’re friends are being ridiculous expecting all of you to just give her all of your attention all the time. She might be challenged, but that doesn’t make her feelings more important than yours, especially with what’s going on right now with the protests and how that’s affecting you. Definitely apologize, but make sure to stand your ground. Don’t let them all emotionally push you around into feeling like you’re feelings and mel health aren’t validated. \n",
      " . Is your boss really that preoccupied with who your girlfriend talks to? He’s apparently too busy to get his own tea bag. He shouldn’t have time to care who talks to whom in the lobby. > Even once I’ve explained everything, she still doesn’t think she did anything wrong. Of course not. Talk all you wa it doesn’t change the info she had at the time. Be glad you’ve got an emotionally intelligent partner and don’t waste further breath on the subject. You’re kissing the wrong butt here, dude. \n",
      " Coming out is such a raw and vulnerable mome and you chose that moment to scream at him and call him names? You could have just pulled him aside later and said \"hey, I'm disappointed with how you handled the situation with my best friend\" and you could have talked about it. \n",
      " . I'm sure it's annoying, yeah. But you offered to cook her dinner, and then refused to make it in a way she would like. Yes, yes, I know, yoghurt, but from experience with people that averse to spice, that often doesn't make a difference. Make a small side batch of mild curry, make something differe or don't offer in the first place \n",
      "5\n",
      "13\n",
      "136\n"
     ]
    }
   ],
   "source": [
    "gen_reasons_unproc = []\n",
    "data = pd.concat([nta,yta])\n",
    "data.drop([\"prompt\"], axis=1, inplace=True)\n",
    "data = preprocess(data, remove_judgement=False)\n",
    "data[\"processed\"] = data['completion'].str.replace(r'[N,n,Y,y][T,t][A,a]', '', 1, regex=True) \n",
    "data['processed'] = data['processed'].str.replace(r'\\s+', ' ', regex=True)\n",
    "unprocessed_list = []\n",
    "improved = 0\n",
    "worse = 0\n",
    "\n",
    "same = 0\n",
    "for index, row in test.iterrows():\n",
    "    processed = row[\"completion\"]\n",
    "    try:\n",
    "        unprocessed = data.loc[data[\"processed\"]==processed, \"completion\"].values[0]\n",
    "    except:\n",
    "        print(processed)\n",
    "    unprocessed_list += [unprocessed]\n",
    "    new_reason = generate_reason(unprocessed)[0]\n",
    "    if new_reason == row[\"generated_reason\"]:\n",
    "        same+=1\n",
    "    else:\n",
    "        if new_reason==row[\"reason\"]:\n",
    "            improved+=1\n",
    "        elif row[\"generated_reason\"]==row[\"reason\"]:\n",
    "            worse+=1\n",
    "print(improved)\n",
    "print(worse)\n",
    "print(same)\n",
    "    \n",
    "    #gen_reasons"
   ]
  },
  {
   "cell_type": "code",
   "execution_count": 174,
   "id": "b0e00a27-54b9-4cd2-bd98-badeb9688eea",
   "metadata": {},
   "outputs": [
    {
     "data": {
      "text/html": [
       "<div>\n",
       "<style scoped>\n",
       "    .dataframe tbody tr th:only-of-type {\n",
       "        vertical-align: middle;\n",
       "    }\n",
       "\n",
       "    .dataframe tbody tr th {\n",
       "        vertical-align: top;\n",
       "    }\n",
       "\n",
       "    .dataframe thead th {\n",
       "        text-align: right;\n",
       "    }\n",
       "</style>\n",
       "<table border=\"1\" class=\"dataframe\">\n",
       "  <thead>\n",
       "    <tr style=\"text-align: right;\">\n",
       "      <th></th>\n",
       "      <th>completion</th>\n",
       "      <th>reason</th>\n",
       "      <th>generated_reason</th>\n",
       "      <th>unprocessed</th>\n",
       "      <th>more_processed</th>\n",
       "    </tr>\n",
       "  </thead>\n",
       "  <tbody>\n",
       "    <tr>\n",
       "      <th>4571</th>\n",
       "      <td>because it seems like a reasonable request, b...</td>\n",
       "      <td>1</td>\n",
       "      <td>11</td>\n",
       "      <td>NTA because it seems like a reasonable reques...</td>\n",
       "      <td>because it seems like a reasonable request, b...</td>\n",
       "    </tr>\n",
       "    <tr>\n",
       "      <th>1509</th>\n",
       "      <td>. You lied to her so she has the right to be ...</td>\n",
       "      <td>6</td>\n",
       "      <td>10</td>\n",
       "      <td>YTA. You lied to her so she has the right to ...</td>\n",
       "      <td>. You lied to her so she has the right to be ...</td>\n",
       "    </tr>\n",
       "    <tr>\n",
       "      <th>5028</th>\n",
       "      <td>- Sounds like the owner just wanted to get ri...</td>\n",
       "      <td>0</td>\n",
       "      <td>10</td>\n",
       "      <td>NTA - Sounds like the owner just wanted to ge...</td>\n",
       "      <td>- Sounds like the owner just wanted to get ri...</td>\n",
       "    </tr>\n",
       "    <tr>\n",
       "      <th>1417</th>\n",
       "      <td>. This isn't everyday shit we're talking abou...</td>\n",
       "      <td>7</td>\n",
       "      <td>5</td>\n",
       "      <td>NTA. This isn't everyday shit we're talking a...</td>\n",
       "      <td>. This isn't everyday shit we're talking abou...</td>\n",
       "    </tr>\n",
       "    <tr>\n",
       "      <th>2247</th>\n",
       "      <td>. I would have been fascinated too. At 6 week...</td>\n",
       "      <td>8</td>\n",
       "      <td>8</td>\n",
       "      <td>NTA. I would have been fascinated too. At 6 w...</td>\n",
       "      <td>. I would have been fascinated too. At 6 week...</td>\n",
       "    </tr>\n",
       "    <tr>\n",
       "      <th>...</th>\n",
       "      <td>...</td>\n",
       "      <td>...</td>\n",
       "      <td>...</td>\n",
       "      <td>...</td>\n",
       "      <td>...</td>\n",
       "    </tr>\n",
       "    <tr>\n",
       "      <th>2083</th>\n",
       "      <td>. Is your cousin an actual child? I’d probabl...</td>\n",
       "      <td>11</td>\n",
       "      <td>6</td>\n",
       "      <td>NTA. Is your cousin an actual child? I’d prob...</td>\n",
       "      <td>. Is your cousin an actual child? I’d probabl...</td>\n",
       "    </tr>\n",
       "    <tr>\n",
       "      <th>255</th>\n",
       "      <td>The school had a requirement and he failed to...</td>\n",
       "      <td>1</td>\n",
       "      <td>1</td>\n",
       "      <td>NTA The school had a requirement and he faile...</td>\n",
       "      <td>The school had a requirement and he failed to...</td>\n",
       "    </tr>\n",
       "    <tr>\n",
       "      <th>1593</th>\n",
       "      <td>. Tell her she needs to pay a company to box ...</td>\n",
       "      <td>0</td>\n",
       "      <td>0</td>\n",
       "      <td>NTA. Tell her she needs to pay a company to b...</td>\n",
       "      <td>. Tell her she needs to pay a company to box ...</td>\n",
       "    </tr>\n",
       "    <tr>\n",
       "      <th>649</th>\n",
       "      <td>. Thank you for standing up for your daughter...</td>\n",
       "      <td>3</td>\n",
       "      <td>5</td>\n",
       "      <td>NTA. Thank you for standing up for your daugh...</td>\n",
       "      <td>. Thank you for standing up for your daughter...</td>\n",
       "    </tr>\n",
       "    <tr>\n",
       "      <th>1965</th>\n",
       "      <td>. I'm sure it's annoying, yeah. But you offer...</td>\n",
       "      <td>6</td>\n",
       "      <td>11</td>\n",
       "      <td>YTA. I'm sure it's annoying, yeah. But you of...</td>\n",
       "      <td>. I'm sure it's annoying, yeah. But you offer...</td>\n",
       "    </tr>\n",
       "  </tbody>\n",
       "</table>\n",
       "<p>200 rows × 5 columns</p>\n",
       "</div>"
      ],
      "text/plain": [
       "                                             completion  reason   \n",
       "4571   because it seems like a reasonable request, b...       1  \\\n",
       "1509   . You lied to her so she has the right to be ...       6   \n",
       "5028   - Sounds like the owner just wanted to get ri...       0   \n",
       "1417   . This isn't everyday shit we're talking abou...       7   \n",
       "2247   . I would have been fascinated too. At 6 week...       8   \n",
       "...                                                 ...     ...   \n",
       "2083   . Is your cousin an actual child? I’d probabl...      11   \n",
       "255    The school had a requirement and he failed to...       1   \n",
       "1593   . Tell her she needs to pay a company to box ...       0   \n",
       "649    . Thank you for standing up for your daughter...       3   \n",
       "1965   . I'm sure it's annoying, yeah. But you offer...       6   \n",
       "\n",
       "      generated_reason                                        unprocessed   \n",
       "4571                11   NTA because it seems like a reasonable reques...  \\\n",
       "1509                10   YTA. You lied to her so she has the right to ...   \n",
       "5028                10   NTA - Sounds like the owner just wanted to ge...   \n",
       "1417                 5   NTA. This isn't everyday shit we're talking a...   \n",
       "2247                 8   NTA. I would have been fascinated too. At 6 w...   \n",
       "...                ...                                                ...   \n",
       "2083                 6   NTA. Is your cousin an actual child? I’d prob...   \n",
       "255                  1   NTA The school had a requirement and he faile...   \n",
       "1593                 0   NTA. Tell her she needs to pay a company to b...   \n",
       "649                  5   NTA. Thank you for standing up for your daugh...   \n",
       "1965                11   YTA. I'm sure it's annoying, yeah. But you of...   \n",
       "\n",
       "                                         more_processed  \n",
       "4571   because it seems like a reasonable request, b...  \n",
       "1509   . You lied to her so she has the right to be ...  \n",
       "5028   - Sounds like the owner just wanted to get ri...  \n",
       "1417   . This isn't everyday shit we're talking abou...  \n",
       "2247   . I would have been fascinated too. At 6 week...  \n",
       "...                                                 ...  \n",
       "2083   . Is your cousin an actual child? I’d probabl...  \n",
       "255    The school had a requirement and he failed to...  \n",
       "1593   . Tell her she needs to pay a company to box ...  \n",
       "649    . Thank you for standing up for your daughter...  \n",
       "1965   . I'm sure it's annoying, yeah. But you offer...  \n",
       "\n",
       "[200 rows x 5 columns]"
      ]
     },
     "execution_count": 174,
     "metadata": {},
     "output_type": "execute_result"
    }
   ],
   "source": [
    "test[\"unprocessed\"]=unprocessed_list\n",
    "test[\"more_processed\"] = test[\"completion\"].str.replace(punctuation,' ')\n",
    "test[\"more_processed\"]=test[\"more_processed\"].str.replace(r'\\s+', ' ', regex=True)\n",
    "test"
   ]
  },
  {
   "cell_type": "code",
   "execution_count": 113,
   "id": "905cfa78-57b6-4ee3-a225-75f00cc4e530",
   "metadata": {},
   "outputs": [
    {
     "name": "stdout",
     "output_type": "stream",
     "text": [
      " . You're not obligated to give her a place to stay, but she's well within her right to leave her husband for any reason, up to and including \"I didn't want to be married to him any more.\" Blaming her choices on \"pregnancy hormones\" is really insulting. What's more, I bet dollars to doughnuts this was a \"straw that broke the camel's back\" situation, and your sister has been putting up with bullshit from her husband for a while. \n",
      "11\n",
      " , your sister is being hypocritical. She’s teasing you for “doing drugs” when the pen wasn’t in your possession (and it seems like you didn’t use it either) while she’s out here ACTUALLY doing drugs. \n",
      "11\n",
      " . He is being astonishingly insensitive. He can perfectly well find someone else to dump his insecurities on who he won't be implicitly insulting with every word. \n",
      "11\n",
      " for repeatedly saying your SIL is \"not actually family\" when she clearly is. What's your issue with her? \n",
      "11\n",
      " . you’re basically telling your girlfriend she’d look better if she was thinner, of course she’s insecure \n",
      "11\n",
      " and honestly fuck them. Pets are quite often family members too and it sucks to lose them. I think your response was 100% warranted. \n",
      "11\n",
      " it must have taken a lot of courage and swallowing of pride to approach your sister to borrow money and she should have realised that, for her to respond the way she did was an asshole move. Fast forward and you were right to bring it back up, petty maybe but must have felt good. \n",
      "11\n",
      " . You embarrassed yourself, and you need to learn to control that anger mate. That's not even nearly a good enough excuse to talk to someone like that. Also I know this is a controversial opinion, but 3/4 uses of a toilet is sitting (women peeing and shitting, and men shitting vs. Men peeing) so in my opinion you should put the seat up, like putting a lid back on a can after using it. Your sister was a bit of a dick, granted, but you're being the bigger dick here (so technically ESH) \n",
      "11\n",
      " If she doesn't like it she didn't have to move in. Pets are part of the family... \n",
      "11\n",
      " . You were told not to bring it up, yet you still did. Not only that, but she’s 15. You shouldn’t be telling her to get surgery to “fix that ugly thing”. Really? \n",
      "11\n",
      " - you just dont come to someones house and insult their pet. \n",
      "11\n",
      " . At first I was on your side when I saw the title. However, after reading the post and seeing your whole \"taking back my thank you\", you're seriously TA. While you don't NEED to thank someone for doing their task, telling them you appreciate it and then pulling what you did is totally immature and I can only imagine how your boyfriend must have felt when you said that. \n",
      "11\n",
      " I'm hoping this is just pandemic induced grouchiness, combined with apparently being single (widowed/divorced?) during a difficult time, which probably hits home a little more when she sees the two of you together. I'm not giving her a free pass for it, that is why she is definitely the AH, but hopefully this is out of character for her? But in no way is you being in a happy loving relationship a problem. \n",
      "11\n",
      " Yes, mood swings while pregnant are absolutely a thing, and they can be super intense. But, that doesn’t excuse someone being an asshole. Her comments have crossed that line, and it sounds like she’s using the pregnancy as an excuse to say whatever she wants. Even if the mood swings are entirely to blame on this, it doesn’t mean you have to put up with it. You are totally within your rights to just keep your distance for a bit, or through the rest of the pregnancy, etc. Even if someone is “justifiably” rude, doesn’t mean you have to take it. If this was actually due to the hormones, she’d feel bad afterward for saying something in the moment. \n",
      "11\n",
      " What your mother has done to you has nothing to do with love. She has been abusing you since you were a child and your father, by being silent and not helping you, has been a part of her abuse. You have nothing to apologise for! The fact that you still tried to help them out says a lot about how nice of a person you are. If your mother won't shut her mouth about your weight then I would seriously consider removing her permanently from my life if I were you. What she has done is so damaging, I know that from personal experience. And seriously, your mom shows love in weird ways?? I can't stand abuse apologists. If you were to tell your mother that she was too fat, looked old and wrinkly, would that be seen as you showing her love? No, I don't think so. It sounds like it's convenient for your family that you remain the scapegoat so that neither your father nor your sister has to deal with your mother's cruelness. \n",
      "11\n",
      " The cut direct - actively snubbing someone socially - is to be reserved only for extreme cases. But in extreme cases, it is considered appropriate to do, and you are in an extreme case. \n",
      "11\n",
      " - I don't know the medical term forvthis, but there are lots of people who really have an aversion for being touched! I think you should look into it more or maybe ask your doctor. This isn't about you being a rude person, you have some sort of condition \n",
      "11\n",
      " for trolling \n",
      "11\n",
      " . You mentioned yourself - if she makes Indian food in a non-authentic way, you don’t say anything about it. You weren’t toting your dominos around like it was the best Margherita pizza from Naples. This is a very weird high horse for her to be trying to stand on. I think it’s pretty obvious anyone who frequently orders dominos isn’t ordering it for that authentic Italian flavour. \n",
      "11\n",
      " , everyone has different levels of comfort when it comes to nudity, gender or sexuality aside, what she's doing is rude because she knows it makes you uncomfortable. \n",
      "11\n",
      " - next time one of them complains tell them you won't be offended if they return your presents for the money back because you know things are tough right now for everyone. Maybe that will make them realize that they are complaining so much they are sucking the joy right out of the gifts. \n",
      "11\n",
      " If he put them away to keep them safe that would be one thing. But \"teaching people lessons\" is reserved for parents and teachers, and only when they're actually teaching not scaring \n",
      "11\n",
      " . Is your cousin an actual child? I’d probably wage war on their facebooks now, but you know...stuff that can be explained away and will only drive *them* insane HA. \n",
      "11\n"
     ]
    }
   ],
   "source": [
    "examine = test.loc[test[\"reason\"].isin([11])]\n",
    "original_prompts = \n",
    "for index, row in examine.iterrows():\n",
    "    print(row[\"completion\"])\n",
    "    print(row[\"reason\"])"
   ]
  },
  {
   "cell_type": "code",
   "execution_count": null,
   "id": "2ab7dc87-5fb3-4d61-90dc-5b2c9aa5f4cc",
   "metadata": {},
   "outputs": [],
   "source": []
  }
 ],
 "metadata": {
  "kernelspec": {
   "display_name": "Python 3 (ipykernel)",
   "language": "python",
   "name": "python3"
  },
  "language_info": {
   "codemirror_mode": {
    "name": "ipython",
    "version": 3
   },
   "file_extension": ".py",
   "mimetype": "text/x-python",
   "name": "python",
   "nbconvert_exporter": "python",
   "pygments_lexer": "ipython3",
   "version": "3.10.7"
  }
 },
 "nbformat": 4,
 "nbformat_minor": 5
}
