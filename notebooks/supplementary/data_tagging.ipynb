{
 "cells": [
  {
   "cell_type": "code",
   "execution_count": 1,
   "id": "cf8bfc05-59f0-469b-aa0d-3bdb998142b6",
   "metadata": {},
   "outputs": [],
   "source": [
    "import json\n",
    "import pandas as pd"
   ]
  },
  {
   "cell_type": "code",
   "execution_count": 2,
   "id": "1681d76c-2f0f-49a9-a411-0843c73eed64",
   "metadata": {},
   "outputs": [],
   "source": [
    "with open(\"tagged.json\") as user_file:\n",
    "    file_contents = json.load(user_file)\n",
    "tagged = pd.DataFrame(file_contents)"
   ]
  },
  {
   "cell_type": "code",
   "execution_count": 3,
   "id": "b06df0a5-0e2b-4ec8-b81b-63f4b9175e4f",
   "metadata": {},
   "outputs": [],
   "source": [
    "def preprocess(data, remove_judgement = True):\n",
    "    # in: 2d table with prompts and resolution\n",
    "    # out: tidied data\n",
    "    # ends with 5 hashtags\n",
    "    # remove capitalisation?\n",
    "    # \n",
    "    if remove_judgement:\n",
    "        data['completion'] = data['completion'].str.replace(r'[N,n,Y,y][T,t][A,a]', '', regex=True)\n",
    "    data['completion'] = data['completion'].str.replace(r'#', '', regex=True)\n",
    "    data['completion'] = data['completion'].str.replace(r'\\s+', ' ', regex=True)\n",
    "    return data"
   ]
  },
  {
   "cell_type": "code",
   "execution_count": 28,
   "id": "5300f0de-f145-47c9-ac11-b68fb3adca09",
   "metadata": {},
   "outputs": [],
   "source": [
    "def correct_labels(data):\n",
    "  data.loc[(data[\"completion\"].str.lower()).str.startswith(' definitely nta'), 'label'] = 0\n",
    "  return data"
   ]
  },
  {
   "cell_type": "code",
   "execution_count": 32,
   "id": "8874b623-3a73-49f6-92ed-d2b034e0d04f",
   "metadata": {},
   "outputs": [],
   "source": [
    "nta = pd.read_json(\"NTA_Dataset.jsonl\", lines=True)\n",
    "yta = pd.read_json(\"YTA_Dataset.jsonl\", lines=True)\n",
    "nta['label'] = 0\n",
    "yta['label'] = 1\n",
    "yta = correct_labels(yta)"
   ]
  },
  {
   "cell_type": "code",
   "execution_count": 33,
   "id": "99201b9a-4882-4893-b9e0-306a299723a8",
   "metadata": {},
   "outputs": [],
   "source": [
    "data = pd.concat([nta,yta])\n",
    "data = preprocess(data)"
   ]
  },
  {
   "cell_type": "code",
   "execution_count": 34,
   "id": "5550f016-f050-45bd-ac8f-fd4cb730a7fe",
   "metadata": {},
   "outputs": [],
   "source": [
    "full_tagged = pd.DataFrame()\n",
    "data[\"reason\"] = -5\n",
    "for index, row in tagged.iterrows():\n",
    "    tagged_completion =  row[\"completion\"]\n",
    "    data.loc[data[\"completion\"]==tagged_completion, \"reason\"] = row[\"reason\"]\n",
    "    #this_row[\"reason\"] = row[\"reason\"]\n",
    "    #full_tagged = pd.concat([full_tagged,this_row])\n",
    "full_tagged = data.loc[data[\"reason\"]!=-5]"
   ]
  },
  {
   "cell_type": "code",
   "execution_count": 35,
   "id": "cd230436-64f6-4dde-b53e-36511a343cfb",
   "metadata": {},
   "outputs": [
    {
     "data": {
      "text/html": [
       "<div>\n",
       "<style scoped>\n",
       "    .dataframe tbody tr th:only-of-type {\n",
       "        vertical-align: middle;\n",
       "    }\n",
       "\n",
       "    .dataframe tbody tr th {\n",
       "        vertical-align: top;\n",
       "    }\n",
       "\n",
       "    .dataframe thead th {\n",
       "        text-align: right;\n",
       "    }\n",
       "</style>\n",
       "<table border=\"1\" class=\"dataframe\">\n",
       "  <thead>\n",
       "    <tr style=\"text-align: right;\">\n",
       "      <th></th>\n",
       "      <th>prompt</th>\n",
       "      <th>completion</th>\n",
       "      <th>label</th>\n",
       "      <th>reason</th>\n",
       "    </tr>\n",
       "  </thead>\n",
       "  <tbody>\n",
       "    <tr>\n",
       "      <th>66</th>\n",
       "      <td>So my Mum and Dad moved about 5 hours away fro...</td>\n",
       "      <td>Your parents have every right to choose a gua...</td>\n",
       "      <td>0</td>\n",
       "      <td>1</td>\n",
       "    </tr>\n",
       "    <tr>\n",
       "      <th>103</th>\n",
       "      <td>Six months ago my now boyfriend broke up with ...</td>\n",
       "      <td>Your bf is actively lying to and emotionally ...</td>\n",
       "      <td>0</td>\n",
       "      <td>6</td>\n",
       "    </tr>\n",
       "    <tr>\n",
       "      <th>134</th>\n",
       "      <td>This story starts around February 2020,\\nSo cl...</td>\n",
       "      <td>You shared the screenshot and had a private c...</td>\n",
       "      <td>0</td>\n",
       "      <td>6</td>\n",
       "    </tr>\n",
       "    <tr>\n",
       "      <th>141</th>\n",
       "      <td>My school has decided to continue with a gradu...</td>\n",
       "      <td>You logic is reasonable. If your bio-dad does...</td>\n",
       "      <td>0</td>\n",
       "      <td>1</td>\n",
       "    </tr>\n",
       "    <tr>\n",
       "      <th>191</th>\n",
       "      <td>My “best” friend of about 8 years is pregnant ...</td>\n",
       "      <td>Yes, mood swings while pregnant are absolutel...</td>\n",
       "      <td>0</td>\n",
       "      <td>11</td>\n",
       "    </tr>\n",
       "    <tr>\n",
       "      <th>...</th>\n",
       "      <td>...</td>\n",
       "      <td>...</td>\n",
       "      <td>...</td>\n",
       "      <td>...</td>\n",
       "    </tr>\n",
       "    <tr>\n",
       "      <th>2284</th>\n",
       "      <td>My husband (28) and I (43) had a small birthda...</td>\n",
       "      <td>big time &gt;My husband was humiliated and somet...</td>\n",
       "      <td>1</td>\n",
       "      <td>-1</td>\n",
       "    </tr>\n",
       "    <tr>\n",
       "      <th>2310</th>\n",
       "      <td>Yesterday it was my daughter's 15th birthday a...</td>\n",
       "      <td>and the piercer you went to was irresponsible...</td>\n",
       "      <td>1</td>\n",
       "      <td>0</td>\n",
       "    </tr>\n",
       "    <tr>\n",
       "      <th>2347</th>\n",
       "      <td>I work for this factory, i'm pretty much a for...</td>\n",
       "      <td>This is your sons income and you should be ha...</td>\n",
       "      <td>1</td>\n",
       "      <td>8</td>\n",
       "    </tr>\n",
       "    <tr>\n",
       "      <th>2359</th>\n",
       "      <td>My parents invited My brother (22M) for dinner...</td>\n",
       "      <td>Coming out is such a raw and vulnerable mome ...</td>\n",
       "      <td>1</td>\n",
       "      <td>3</td>\n",
       "    </tr>\n",
       "    <tr>\n",
       "      <th>2394</th>\n",
       "      <td>\\n\\nSo I have a habit of calling out to peopl...</td>\n",
       "      <td>- whether he was unsafe or not, you caused th...</td>\n",
       "      <td>1</td>\n",
       "      <td>7</td>\n",
       "    </tr>\n",
       "  </tbody>\n",
       "</table>\n",
       "<p>201 rows × 4 columns</p>\n",
       "</div>"
      ],
      "text/plain": [
       "                                                 prompt   \n",
       "66    So my Mum and Dad moved about 5 hours away fro...  \\\n",
       "103   Six months ago my now boyfriend broke up with ...   \n",
       "134   This story starts around February 2020,\\nSo cl...   \n",
       "141   My school has decided to continue with a gradu...   \n",
       "191   My “best” friend of about 8 years is pregnant ...   \n",
       "...                                                 ...   \n",
       "2284  My husband (28) and I (43) had a small birthda...   \n",
       "2310  Yesterday it was my daughter's 15th birthday a...   \n",
       "2347  I work for this factory, i'm pretty much a for...   \n",
       "2359  My parents invited My brother (22M) for dinner...   \n",
       "2394   \\n\\nSo I have a habit of calling out to peopl...   \n",
       "\n",
       "                                             completion  label  reason  \n",
       "66     Your parents have every right to choose a gua...      0       1  \n",
       "103    Your bf is actively lying to and emotionally ...      0       6  \n",
       "134    You shared the screenshot and had a private c...      0       6  \n",
       "141    You logic is reasonable. If your bio-dad does...      0       1  \n",
       "191    Yes, mood swings while pregnant are absolutel...      0      11  \n",
       "...                                                 ...    ...     ...  \n",
       "2284   big time >My husband was humiliated and somet...      1      -1  \n",
       "2310   and the piercer you went to was irresponsible...      1       0  \n",
       "2347   This is your sons income and you should be ha...      1       8  \n",
       "2359   Coming out is such a raw and vulnerable mome ...      1       3  \n",
       "2394   - whether he was unsafe or not, you caused th...      1       7  \n",
       "\n",
       "[201 rows x 4 columns]"
      ]
     },
     "execution_count": 35,
     "metadata": {},
     "output_type": "execute_result"
    }
   ],
   "source": [
    "full_tagged"
   ]
  },
  {
   "cell_type": "code",
   "execution_count": 36,
   "id": "fa3b7693-7cff-48aa-8247-6a5af66ee38a",
   "metadata": {},
   "outputs": [],
   "source": [
    "full_tagged.to_json(\"tagged_data.json\")"
   ]
  },
  {
   "cell_type": "code",
   "execution_count": null,
   "id": "aa57cc89-5c23-407e-ab14-4202facd0346",
   "metadata": {},
   "outputs": [],
   "source": []
  }
 ],
 "metadata": {
  "kernelspec": {
   "display_name": "Python 3 (ipykernel)",
   "language": "python",
   "name": "python3"
  },
  "language_info": {
   "codemirror_mode": {
    "name": "ipython",
    "version": 3
   },
   "file_extension": ".py",
   "mimetype": "text/x-python",
   "name": "python",
   "nbconvert_exporter": "python",
   "pygments_lexer": "ipython3",
   "version": "3.10.7"
  }
 },
 "nbformat": 4,
 "nbformat_minor": 5
}
